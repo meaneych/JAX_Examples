{
 "cells": [
  {
   "cell_type": "code",
   "execution_count": 1,
   "id": "certain-contents",
   "metadata": {},
   "outputs": [],
   "source": [
    "###########################################\n",
    "## Jax Demo\n",
    "## Goal - fool around with Jax AutoDiff (function composition/transformation) library\n",
    "##\n",
    "## Author: Chris Meaney\n",
    "## Date: Feb 2021\n",
    "###########################################"
   ]
  },
  {
   "cell_type": "code",
   "execution_count": 2,
   "id": "massive-excitement",
   "metadata": {},
   "outputs": [],
   "source": [
    "## Import JAX dependencies\n",
    "import jax\n",
    "import jax.numpy as jnp\n",
    "from jax import grad, jit, vmap, hessian\n",
    "from jax import random\n",
    "\n",
    "## Plotting\n",
    "import matplotlib.pyplot as plt\n",
    "import seaborn as sns\n",
    "\n",
    "## Pandas data wrangling, summarization, etc.\n",
    "import pandas as pd\n",
    "\n",
    "## Old numpy - for comparing speed/flexibility JAX approach vs. existing NumPy/Scipy capabilities\n",
    "import numpy as onp"
   ]
  },
  {
   "cell_type": "code",
   "execution_count": 3,
   "id": "analyzed-palace",
   "metadata": {},
   "outputs": [
    {
     "name": "stderr",
     "output_type": "stream",
     "text": [
      "WARNING:absl:No GPU/TPU found, falling back to CPU. (Set TF_CPP_MIN_LOG_LEVEL=0 and rerun for more info.)\n"
     ]
    }
   ],
   "source": [
    "## Set seed\n",
    "key = random.PRNGKey(912834)"
   ]
  },
  {
   "cell_type": "code",
   "execution_count": 4,
   "id": "circular-maximum",
   "metadata": {},
   "outputs": [
    {
     "data": {
      "text/plain": [
       "DeviceArray([     0, 912834], dtype=uint32)"
      ]
     },
     "execution_count": 4,
     "metadata": {},
     "output_type": "execute_result"
    }
   ],
   "source": [
    "key"
   ]
  },
  {
   "cell_type": "code",
   "execution_count": null,
   "id": "fundamental-corruption",
   "metadata": {},
   "outputs": [],
   "source": []
  },
  {
   "cell_type": "code",
   "execution_count": null,
   "id": "suburban-decision",
   "metadata": {},
   "outputs": [],
   "source": []
  },
  {
   "cell_type": "code",
   "execution_count": 115,
   "id": "straight-timothy",
   "metadata": {},
   "outputs": [
    {
     "data": {
      "text/plain": [
       "DeviceArray([ 1,  2, 10,  4], dtype=int32)"
      ]
     },
     "execution_count": 115,
     "metadata": {},
     "output_type": "execute_result"
    }
   ],
   "source": [
    "##\n",
    "## Note: JAX arrays are immutable by nature, need special syntax to alter constructed arrays\n",
    "##\n",
    "x = jnp.array([1,2,3,4])\n",
    "x.at[2].set(10)"
   ]
  },
  {
   "cell_type": "code",
   "execution_count": null,
   "id": "christian-beach",
   "metadata": {},
   "outputs": [],
   "source": []
  },
  {
   "cell_type": "code",
   "execution_count": null,
   "id": "listed-necessity",
   "metadata": {},
   "outputs": [],
   "source": []
  },
  {
   "cell_type": "code",
   "execution_count": 5,
   "id": "welcome-endorsement",
   "metadata": {},
   "outputs": [],
   "source": [
    "######################################\n",
    "##\n",
    "## Data Manipulation Tools\n",
    "##\n",
    "######################################"
   ]
  },
  {
   "cell_type": "code",
   "execution_count": 6,
   "id": "centered-novelty",
   "metadata": {},
   "outputs": [],
   "source": [
    "## Create data from \"array like\" cpecify vectors (or matrices) of given shape\n",
    "x = jnp.array([1,2,3]).reshape(3,1)\n",
    "y = jnp.array([8,9,0]).reshape(3,1)"
   ]
  },
  {
   "cell_type": "code",
   "execution_count": 7,
   "id": "european-chemistry",
   "metadata": {},
   "outputs": [
    {
     "data": {
      "text/plain": [
       "DeviceArray([0, 1, 2, 3, 4, 5, 6, 7, 8, 9], dtype=int32)"
      ]
     },
     "execution_count": 7,
     "metadata": {},
     "output_type": "execute_result"
    }
   ],
   "source": [
    "## Create data from arange\n",
    "jnp.arange(10)"
   ]
  },
  {
   "cell_type": "code",
   "execution_count": 8,
   "id": "assured-terry",
   "metadata": {},
   "outputs": [
    {
     "data": {
      "text/plain": [
       "DeviceArray([ 0.,  1.,  2.,  3.,  4.,  5.,  6.,  7.,  8.,  9., 10.], dtype=float32)"
      ]
     },
     "execution_count": 8,
     "metadata": {},
     "output_type": "execute_result"
    }
   ],
   "source": [
    "## Create data from linspace\n",
    "jnp.linspace(start=0, stop=10, num=11, endpoint=True)"
   ]
  },
  {
   "cell_type": "code",
   "execution_count": 9,
   "id": "documentary-vatican",
   "metadata": {},
   "outputs": [
    {
     "data": {
      "text/plain": [
       "DeviceArray([0, 0, 0, 0, 0, 0, 0, 0, 0, 0], dtype=int32)"
      ]
     },
     "execution_count": 9,
     "metadata": {},
     "output_type": "execute_result"
    }
   ],
   "source": [
    "## Repeat some value\n",
    "jnp.repeat(a=jnp.array([0]), repeats=10)"
   ]
  },
  {
   "cell_type": "code",
   "execution_count": 10,
   "id": "frequent-gravity",
   "metadata": {},
   "outputs": [
    {
     "data": {
      "text/plain": [
       "DeviceArray([0, 0, 0, 1, 1, 1, 2, 2, 2], dtype=int32)"
      ]
     },
     "execution_count": 10,
     "metadata": {},
     "output_type": "execute_result"
    }
   ],
   "source": [
    "## Repeat some value\n",
    "jnp.repeat(a=jnp.array([0,1,2]), repeats=3)"
   ]
  },
  {
   "cell_type": "code",
   "execution_count": 11,
   "id": "essential-courtesy",
   "metadata": {},
   "outputs": [
    {
     "data": {
      "text/plain": [
       "DeviceArray([[0, 0, 0],\n",
       "             [1, 1, 1],\n",
       "             [2, 2, 2]], dtype=int32)"
      ]
     },
     "execution_count": 11,
     "metadata": {},
     "output_type": "execute_result"
    }
   ],
   "source": [
    "## Repeat some value\n",
    "## Note: axis={0,1} now stacks this in vector/matrix...\n",
    "jnp.repeat(a=jnp.array([0,1,2]).reshape(3,1), repeats=3, axis=1)"
   ]
  },
  {
   "cell_type": "code",
   "execution_count": 12,
   "id": "strange-monster",
   "metadata": {},
   "outputs": [
    {
     "data": {
      "text/plain": [
       "DeviceArray([8, 1, 3, 6, 5, 8, 7, 5, 4, 5], dtype=int32)"
      ]
     },
     "execution_count": 12,
     "metadata": {},
     "output_type": "execute_result"
    }
   ],
   "source": [
    "## jax.random sub-package (random integers)\n",
    "random.randint(key, minval=0, maxval=10, shape=(10,))"
   ]
  },
  {
   "cell_type": "code",
   "execution_count": 13,
   "id": "fitting-encoding",
   "metadata": {},
   "outputs": [
    {
     "data": {
      "text/plain": [
       "count    10000.000000\n",
       "mean         9.985111\n",
       "std          2.010155\n",
       "min          1.957885\n",
       "25%          8.645895\n",
       "50%         10.003785\n",
       "75%         11.340447\n",
       "max         19.328236\n",
       "dtype: float64"
      ]
     },
     "execution_count": 13,
     "metadata": {},
     "output_type": "execute_result"
    }
   ],
   "source": [
    "## jax.random sub-package (random normal)\n",
    "x = random.normal(key, shape=(10000,))\n",
    "x = x*2 + 10\n",
    "pd.Series(x).describe()"
   ]
  },
  {
   "cell_type": "code",
   "execution_count": 14,
   "id": "israeli-garlic",
   "metadata": {},
   "outputs": [],
   "source": [
    "## Read/load array like data (possibly pickled numpy arrays) directly in jax.array structure\n",
    "##\n",
    "## jax.numpy.load"
   ]
  },
  {
   "cell_type": "code",
   "execution_count": 15,
   "id": "wound-carter",
   "metadata": {},
   "outputs": [],
   "source": [
    "##\n",
    "## Read data in from some friendly \"pandas-like\" tool; and coerce the dataFrame -> array -> jax.array \n",
    "##\n",
    "## df = pd.read_csv()\n",
    "## df_np = df.to_numpy\n",
    "## df_jax = jnp.array(df_np)\n",
    "##"
   ]
  },
  {
   "cell_type": "code",
   "execution_count": 16,
   "id": "tropical-rachel",
   "metadata": {},
   "outputs": [],
   "source": [
    "## Note can also/save or export data with similar functionality\n",
    "##\n",
    "## jax.numpy.save\n",
    "## jax.numpy.savez"
   ]
  },
  {
   "cell_type": "code",
   "execution_count": null,
   "id": "developed-slope",
   "metadata": {},
   "outputs": [],
   "source": []
  },
  {
   "cell_type": "code",
   "execution_count": null,
   "id": "japanese-twelve",
   "metadata": {},
   "outputs": [],
   "source": []
  },
  {
   "cell_type": "code",
   "execution_count": null,
   "id": "tamil-palestinian",
   "metadata": {},
   "outputs": [],
   "source": []
  },
  {
   "cell_type": "code",
   "execution_count": null,
   "id": "hearing-article",
   "metadata": {},
   "outputs": [],
   "source": []
  },
  {
   "cell_type": "code",
   "execution_count": null,
   "id": "refined-festival",
   "metadata": {},
   "outputs": [],
   "source": []
  },
  {
   "cell_type": "code",
   "execution_count": 17,
   "id": "dimensional-timothy",
   "metadata": {},
   "outputs": [],
   "source": [
    "######################################\n",
    "##\n",
    "## Data Manipulation Tools\n",
    "##\n",
    "######################################"
   ]
  },
  {
   "cell_type": "code",
   "execution_count": 18,
   "id": "differential-harmony",
   "metadata": {},
   "outputs": [
    {
     "data": {
      "text/plain": [
       "DeviceArray([[1, 8],\n",
       "             [2, 9],\n",
       "             [3, 0]], dtype=int32)"
      ]
     },
     "execution_count": 18,
     "metadata": {},
     "output_type": "execute_result"
    }
   ],
   "source": [
    "## Concatenate the vectors\n",
    "x = jnp.array([1,2,3]).reshape(3,1)\n",
    "y = jnp.array([8,9,0]).reshape(3,1)\n",
    "\n",
    "A = jnp.concatenate((x,y), axis=1)\n",
    "A"
   ]
  },
  {
   "cell_type": "code",
   "execution_count": 19,
   "id": "instructional-presentation",
   "metadata": {},
   "outputs": [
    {
     "data": {
      "text/plain": [
       "DeviceArray([[1, 8],\n",
       "             [2, 9],\n",
       "             [3, 0]], dtype=int32)"
      ]
     },
     "execution_count": 19,
     "metadata": {},
     "output_type": "execute_result"
    }
   ],
   "source": [
    "## Stacking vectors (like cbind in R)\n",
    "jnp.hstack((x,y))"
   ]
  },
  {
   "cell_type": "code",
   "execution_count": 20,
   "id": "classical-bronze",
   "metadata": {},
   "outputs": [
    {
     "data": {
      "text/plain": [
       "DeviceArray([[0.54742837, 0.1428895 , 0.4743966 , 0.54742837, 0.1428895 ,\n",
       "              0.4743966 ],\n",
       "             [0.67102444, 0.6460316 , 0.75969887, 0.67102444, 0.6460316 ,\n",
       "              0.75969887]], dtype=float32)"
      ]
     },
     "execution_count": 20,
     "metadata": {},
     "output_type": "execute_result"
    }
   ],
   "source": [
    "## Stacking matrices (hstack is like R cbind)\n",
    "A = random.uniform(key, shape=(6,)).reshape(2,3)\n",
    "B = random.uniform(key, shape=(6,)).reshape(2,3)\n",
    "jnp.hstack((A,B))"
   ]
  },
  {
   "cell_type": "code",
   "execution_count": 21,
   "id": "silent-currency",
   "metadata": {},
   "outputs": [
    {
     "data": {
      "text/plain": [
       "DeviceArray([[0.54742837, 0.1428895 , 0.4743966 ],\n",
       "             [0.67102444, 0.6460316 , 0.75969887],\n",
       "             [0.54742837, 0.1428895 , 0.4743966 ],\n",
       "             [0.67102444, 0.6460316 , 0.75969887]], dtype=float32)"
      ]
     },
     "execution_count": 21,
     "metadata": {},
     "output_type": "execute_result"
    }
   ],
   "source": [
    "## Stacking m(atrices (vstack is like R rbind)\n",
    "jnp.vstack((A,B))"
   ]
  },
  {
   "cell_type": "code",
   "execution_count": 22,
   "id": "sophisticated-return",
   "metadata": {},
   "outputs": [
    {
     "data": {
      "text/plain": [
       "DeviceArray([[0.54742837, 0.1428895 , 0.4743966 ],\n",
       "             [0.67102444, 0.6460316 , 0.75969887],\n",
       "             [0.54742837, 0.1428895 , 0.4743966 ],\n",
       "             [0.67102444, 0.6460316 , 0.75969887]], dtype=float32)"
      ]
     },
     "execution_count": 22,
     "metadata": {},
     "output_type": "execute_result"
    }
   ],
   "source": [
    "## Concatenation (axis=0 ==> rows)\n",
    "jnp.concatenate((A,B), axis=0)"
   ]
  },
  {
   "cell_type": "code",
   "execution_count": 23,
   "id": "other-lawrence",
   "metadata": {},
   "outputs": [
    {
     "data": {
      "text/plain": [
       "DeviceArray([[0.54742837, 0.1428895 , 0.4743966 , 0.54742837, 0.1428895 ,\n",
       "              0.4743966 ],\n",
       "             [0.67102444, 0.6460316 , 0.75969887, 0.67102444, 0.6460316 ,\n",
       "              0.75969887]], dtype=float32)"
      ]
     },
     "execution_count": 23,
     "metadata": {},
     "output_type": "execute_result"
    }
   ],
   "source": [
    "## Concatenation (axis=1 ==> cols)\n",
    "jnp.concatenate((A,B), axis=1)"
   ]
  },
  {
   "cell_type": "code",
   "execution_count": 24,
   "id": "architectural-stylus",
   "metadata": {},
   "outputs": [
    {
     "data": {
      "text/plain": [
       "DeviceArray([0.54742837, 0.1428895 , 0.4743966 , 0.67102444, 0.6460316 ,\n",
       "             0.75969887], dtype=float32)"
      ]
     },
     "execution_count": 24,
     "metadata": {},
     "output_type": "execute_result"
    }
   ],
   "source": [
    "## Unravel a matrix into a vector\n",
    "## *** WARNING *** order='C' implements C-style (row-major) order of the unravel operations\n",
    "jnp.ravel(A, order='C')"
   ]
  },
  {
   "cell_type": "code",
   "execution_count": 25,
   "id": "seasonal-karen",
   "metadata": {},
   "outputs": [
    {
     "data": {
      "text/plain": [
       "DeviceArray([0.54742837, 0.67102444, 0.1428895 , 0.6460316 , 0.4743966 ,\n",
       "             0.75969887], dtype=float32)"
      ]
     },
     "execution_count": 25,
     "metadata": {},
     "output_type": "execute_result"
    }
   ],
   "source": [
    "## Unravel a matrix into a vector\n",
    "## *** WARNING *** order='F' implements Fortran-style (col-major) order of the unravel operations\n",
    "jnp.ravel(A, order='F')"
   ]
  },
  {
   "cell_type": "code",
   "execution_count": 26,
   "id": "coupled-variety",
   "metadata": {},
   "outputs": [],
   "source": [
    "## Unravel a matrix into a vector\n",
    "## Note order='K' and order='A' are \"not implemented\" errors"
   ]
  },
  {
   "cell_type": "code",
   "execution_count": 27,
   "id": "lyric-therapy",
   "metadata": {},
   "outputs": [
    {
     "data": {
      "text/plain": [
       "DeviceArray([2, 3, 4, 5, 6], dtype=int32)"
      ]
     },
     "execution_count": 27,
     "metadata": {},
     "output_type": "execute_result"
    }
   ],
   "source": [
    "## Slicing/indexing a vector\n",
    "x = jnp.arange(10)\n",
    "x[2:7]"
   ]
  },
  {
   "cell_type": "code",
   "execution_count": 28,
   "id": "empty-potential",
   "metadata": {},
   "outputs": [
    {
     "data": {
      "text/plain": [
       "DeviceArray([7, 8, 9], dtype=int32)"
      ]
     },
     "execution_count": 28,
     "metadata": {},
     "output_type": "execute_result"
    }
   ],
   "source": [
    "## Slicing/indexing a vector\n",
    "x = jnp.arange(10)\n",
    "x[7:]"
   ]
  },
  {
   "cell_type": "code",
   "execution_count": 29,
   "id": "outstanding-chile",
   "metadata": {},
   "outputs": [
    {
     "data": {
      "text/plain": [
       "DeviceArray([0, 1, 2, 3, 4, 5, 6], dtype=int32)"
      ]
     },
     "execution_count": 29,
     "metadata": {},
     "output_type": "execute_result"
    }
   ],
   "source": [
    "## Slicing/indexing a vector\n",
    "x = jnp.arange(10)\n",
    "x[:7]"
   ]
  },
  {
   "cell_type": "code",
   "execution_count": 30,
   "id": "metric-jason",
   "metadata": {},
   "outputs": [
    {
     "data": {
      "text/plain": [
       "DeviceArray([1, 2, 4], dtype=int32)"
      ]
     },
     "execution_count": 30,
     "metadata": {},
     "output_type": "execute_result"
    }
   ],
   "source": [
    "## Sorting\n",
    "x = jnp.array([1,4,2])\n",
    "x.sort()"
   ]
  },
  {
   "cell_type": "code",
   "execution_count": null,
   "id": "selective-statistics",
   "metadata": {},
   "outputs": [],
   "source": []
  },
  {
   "cell_type": "code",
   "execution_count": null,
   "id": "revolutionary-dylan",
   "metadata": {},
   "outputs": [],
   "source": []
  },
  {
   "cell_type": "code",
   "execution_count": null,
   "id": "static-quarterly",
   "metadata": {},
   "outputs": [],
   "source": []
  },
  {
   "cell_type": "code",
   "execution_count": 31,
   "id": "smart-gasoline",
   "metadata": {},
   "outputs": [],
   "source": [
    "########################################\n",
    "## Inspection type functions\n",
    "########################################"
   ]
  },
  {
   "cell_type": "code",
   "execution_count": 32,
   "id": "vital-istanbul",
   "metadata": {},
   "outputs": [],
   "source": [
    "x = jnp.array([2,3,4,4]).reshape(2,2)"
   ]
  },
  {
   "cell_type": "code",
   "execution_count": 33,
   "id": "informational-wonder",
   "metadata": {},
   "outputs": [
    {
     "data": {
      "text/plain": [
       "(2, 2)"
      ]
     },
     "execution_count": 33,
     "metadata": {},
     "output_type": "execute_result"
    }
   ],
   "source": [
    "## Shape/dimension of object\n",
    "x.shape"
   ]
  },
  {
   "cell_type": "code",
   "execution_count": 34,
   "id": "after-crime",
   "metadata": {},
   "outputs": [
    {
     "data": {
      "text/plain": [
       "4"
      ]
     },
     "execution_count": 34,
     "metadata": {},
     "output_type": "execute_result"
    }
   ],
   "source": [
    "## Size (number elements)\n",
    "x.size"
   ]
  },
  {
   "cell_type": "code",
   "execution_count": 35,
   "id": "satellite-netscape",
   "metadata": {},
   "outputs": [
    {
     "data": {
      "text/plain": [
       "dtype('int32')"
      ]
     },
     "execution_count": 35,
     "metadata": {},
     "output_type": "execute_result"
    }
   ],
   "source": [
    "## \"type\" of object (float, int, etc.)\n",
    "x.dtype"
   ]
  },
  {
   "cell_type": "code",
   "execution_count": null,
   "id": "suited-cologne",
   "metadata": {},
   "outputs": [],
   "source": []
  },
  {
   "cell_type": "code",
   "execution_count": null,
   "id": "handed-closure",
   "metadata": {},
   "outputs": [],
   "source": []
  },
  {
   "cell_type": "code",
   "execution_count": null,
   "id": "taken-newman",
   "metadata": {},
   "outputs": [],
   "source": []
  },
  {
   "cell_type": "code",
   "execution_count": 36,
   "id": "domestic-sense",
   "metadata": {},
   "outputs": [],
   "source": [
    "#######################################\n",
    "##\n",
    "## Mathematical/numerics functions in numpy/scipy \n",
    "##\n",
    "#######################################"
   ]
  },
  {
   "cell_type": "code",
   "execution_count": 37,
   "id": "surprised-chapel",
   "metadata": {},
   "outputs": [
    {
     "data": {
      "text/plain": [
       "DeviceArray(2., dtype=float32)"
      ]
     },
     "execution_count": 37,
     "metadata": {},
     "output_type": "execute_result"
    }
   ],
   "source": [
    "## Square root\n",
    "jnp.sqrt(4)"
   ]
  },
  {
   "cell_type": "code",
   "execution_count": 38,
   "id": "hourly-punishment",
   "metadata": {},
   "outputs": [
    {
     "data": {
      "text/plain": [
       "DeviceArray(81, dtype=int32)"
      ]
     },
     "execution_count": 38,
     "metadata": {},
     "output_type": "execute_result"
    }
   ],
   "source": [
    "## Square X^2\n",
    "jnp.square(9)"
   ]
  },
  {
   "cell_type": "code",
   "execution_count": 39,
   "id": "corresponding-denmark",
   "metadata": {},
   "outputs": [
    {
     "data": {
      "text/plain": [
       "DeviceArray([0, 1, 2, 3, 4, 5, 6, 7, 8, 9], dtype=int32)"
      ]
     },
     "execution_count": 39,
     "metadata": {},
     "output_type": "execute_result"
    }
   ],
   "source": [
    "## Sequence of integers\n",
    "x = jnp.arange(10)\n",
    "x"
   ]
  },
  {
   "cell_type": "code",
   "execution_count": 40,
   "id": "crucial-hypothesis",
   "metadata": {},
   "outputs": [
    {
     "data": {
      "text/plain": [
       "DeviceArray(45, dtype=int32)"
      ]
     },
     "execution_count": 40,
     "metadata": {},
     "output_type": "execute_result"
    }
   ],
   "source": [
    "## Sum of vector\n",
    "x.sum()"
   ]
  },
  {
   "cell_type": "code",
   "execution_count": 41,
   "id": "experimental-service",
   "metadata": {},
   "outputs": [
    {
     "data": {
      "text/plain": [
       "DeviceArray([ 0,  1,  3,  6, 10, 15, 21, 28, 36, 45], dtype=int32)"
      ]
     },
     "execution_count": 41,
     "metadata": {},
     "output_type": "execute_result"
    }
   ],
   "source": [
    "## Cumsum of vector\n",
    "x.cumsum()"
   ]
  },
  {
   "cell_type": "code",
   "execution_count": 42,
   "id": "imposed-opera",
   "metadata": {},
   "outputs": [
    {
     "data": {
      "text/plain": [
       "DeviceArray([      1,       2,       6,      24,     120,     720,\n",
       "                5040,   40320,  362880, 3628800], dtype=int32)"
      ]
     },
     "execution_count": 42,
     "metadata": {},
     "output_type": "execute_result"
    }
   ],
   "source": [
    "## Cumprod of vector\n",
    "(x+1).cumprod()"
   ]
  },
  {
   "cell_type": "code",
   "execution_count": 43,
   "id": "drawn-concentrate",
   "metadata": {},
   "outputs": [
    {
     "data": {
      "text/plain": [
       "DeviceArray([1, 1, 1, 1, 1, 1, 1, 1, 1], dtype=int32)"
      ]
     },
     "execution_count": 43,
     "metadata": {},
     "output_type": "execute_result"
    }
   ],
   "source": [
    "## Discrete differences\n",
    "xdiff = jnp.diff(a=x)\n",
    "xdiff"
   ]
  },
  {
   "cell_type": "code",
   "execution_count": 44,
   "id": "apart-interference",
   "metadata": {},
   "outputs": [
    {
     "data": {
      "text/plain": [
       "DeviceArray([2, 1, 0, 1, 2], dtype=int32)"
      ]
     },
     "execution_count": 44,
     "metadata": {},
     "output_type": "execute_result"
    }
   ],
   "source": [
    "## Absolute values\n",
    "x = jnp.array([-2,-1,0,1,2])\n",
    "jnp.abs(x)"
   ]
  },
  {
   "cell_type": "code",
   "execution_count": 45,
   "id": "employed-target",
   "metadata": {},
   "outputs": [
    {
     "data": {
      "text/plain": [
       "DeviceArray(2, dtype=int32)"
      ]
     },
     "execution_count": 45,
     "metadata": {},
     "output_type": "execute_result"
    }
   ],
   "source": [
    "## Max \n",
    "jnp.max(x)"
   ]
  },
  {
   "cell_type": "code",
   "execution_count": 46,
   "id": "helpful-olive",
   "metadata": {},
   "outputs": [
    {
     "data": {
      "text/plain": [
       "DeviceArray(-2, dtype=int32)"
      ]
     },
     "execution_count": 46,
     "metadata": {},
     "output_type": "execute_result"
    }
   ],
   "source": [
    "## Min\n",
    "jnp.min(x)"
   ]
  },
  {
   "cell_type": "code",
   "execution_count": 47,
   "id": "mediterranean-hurricane",
   "metadata": {},
   "outputs": [
    {
     "data": {
      "text/plain": [
       "DeviceArray(4, dtype=int32)"
      ]
     },
     "execution_count": 47,
     "metadata": {},
     "output_type": "execute_result"
    }
   ],
   "source": [
    "## Positional index where max occurs\n",
    "jnp.argmax(x)"
   ]
  },
  {
   "cell_type": "code",
   "execution_count": 48,
   "id": "infrared-lighting",
   "metadata": {},
   "outputs": [
    {
     "data": {
      "text/plain": [
       "DeviceArray(0, dtype=int32)"
      ]
     },
     "execution_count": 48,
     "metadata": {},
     "output_type": "execute_result"
    }
   ],
   "source": [
    "## Positional index where min occurs\n",
    "jnp.argmin(x)"
   ]
  },
  {
   "cell_type": "code",
   "execution_count": 49,
   "id": "educational-rings",
   "metadata": {},
   "outputs": [
    {
     "data": {
      "text/plain": [
       "DeviceArray(4, dtype=int32)"
      ]
     },
     "execution_count": 49,
     "metadata": {},
     "output_type": "execute_result"
    }
   ],
   "source": [
    "## Count zeroes\n",
    "jnp.count_nonzero(x)"
   ]
  },
  {
   "cell_type": "code",
   "execution_count": 50,
   "id": "swedish-chemistry",
   "metadata": {},
   "outputs": [
    {
     "data": {
      "text/plain": [
       "DeviceArray(-0.5440211, dtype=float32)"
      ]
     },
     "execution_count": 50,
     "metadata": {},
     "output_type": "execute_result"
    }
   ],
   "source": [
    "## Trig functions\n",
    "jnp.sin(10)"
   ]
  },
  {
   "cell_type": "code",
   "execution_count": 51,
   "id": "after-familiar",
   "metadata": {},
   "outputs": [
    {
     "data": {
      "text/plain": [
       "DeviceArray(-0.8390715, dtype=float32)"
      ]
     },
     "execution_count": 51,
     "metadata": {},
     "output_type": "execute_result"
    }
   ],
   "source": [
    "## Trig functions\n",
    "jnp.cos(10)"
   ]
  },
  {
   "cell_type": "code",
   "execution_count": 52,
   "id": "turkish-source",
   "metadata": {},
   "outputs": [
    {
     "data": {
      "text/plain": [
       "DeviceArray(2.7182817, dtype=float32)"
      ]
     },
     "execution_count": 52,
     "metadata": {},
     "output_type": "execute_result"
    }
   ],
   "source": [
    "## Exponential function\n",
    "jnp.exp(1)"
   ]
  },
  {
   "cell_type": "code",
   "execution_count": 53,
   "id": "elementary-stanley",
   "metadata": {},
   "outputs": [
    {
     "data": {
      "text/plain": [
       "DeviceArray(0., dtype=float32)"
      ]
     },
     "execution_count": 53,
     "metadata": {},
     "output_type": "execute_result"
    }
   ],
   "source": [
    "## Logarithmic function\n",
    "jnp.log(1)"
   ]
  },
  {
   "cell_type": "code",
   "execution_count": null,
   "id": "civil-christianity",
   "metadata": {},
   "outputs": [],
   "source": []
  },
  {
   "cell_type": "code",
   "execution_count": null,
   "id": "moderate-adapter",
   "metadata": {},
   "outputs": [],
   "source": []
  },
  {
   "cell_type": "code",
   "execution_count": null,
   "id": "pleasant-aviation",
   "metadata": {},
   "outputs": [],
   "source": []
  },
  {
   "cell_type": "code",
   "execution_count": 54,
   "id": "foster-vermont",
   "metadata": {},
   "outputs": [],
   "source": [
    "############################################\n",
    "##\n",
    "## Boolean type evaluations\n",
    "##\n",
    "############################################"
   ]
  },
  {
   "cell_type": "code",
   "execution_count": 55,
   "id": "thirty-sunday",
   "metadata": {},
   "outputs": [
    {
     "data": {
      "text/plain": [
       "DeviceArray([ True], dtype=bool)"
      ]
     },
     "execution_count": 55,
     "metadata": {},
     "output_type": "execute_result"
    }
   ],
   "source": [
    "## Logical comparison (equality)\n",
    "jnp.array([2]) == jnp.array([2])"
   ]
  },
  {
   "cell_type": "code",
   "execution_count": 56,
   "id": "serial-treat",
   "metadata": {},
   "outputs": [
    {
     "data": {
      "text/plain": [
       "DeviceArray([False], dtype=bool)"
      ]
     },
     "execution_count": 56,
     "metadata": {},
     "output_type": "execute_result"
    }
   ],
   "source": [
    "## Logical comparison (equality)\n",
    "jnp.array([2]) != jnp.array([2])"
   ]
  },
  {
   "cell_type": "code",
   "execution_count": 57,
   "id": "iraqi-armor",
   "metadata": {},
   "outputs": [
    {
     "data": {
      "text/plain": [
       "DeviceArray([ True], dtype=bool)"
      ]
     },
     "execution_count": 57,
     "metadata": {},
     "output_type": "execute_result"
    }
   ],
   "source": [
    "## Greater than\n",
    "jnp.array([3]) >= jnp.array([1])"
   ]
  },
  {
   "cell_type": "code",
   "execution_count": 58,
   "id": "round-october",
   "metadata": {},
   "outputs": [
    {
     "data": {
      "text/plain": [
       "DeviceArray([False], dtype=bool)"
      ]
     },
     "execution_count": 58,
     "metadata": {},
     "output_type": "execute_result"
    }
   ],
   "source": [
    "## Less than\n",
    "jnp.array([1]) < jnp.array([0])"
   ]
  },
  {
   "cell_type": "code",
   "execution_count": 59,
   "id": "painted-starter",
   "metadata": {},
   "outputs": [
    {
     "data": {
      "text/plain": [
       "DeviceArray([ True,  True,  True,  True, False, False, False, False,\n",
       "             False, False], dtype=bool)"
      ]
     },
     "execution_count": 59,
     "metadata": {},
     "output_type": "execute_result"
    }
   ],
   "source": [
    "## Broadcast boolean logic over vectors\n",
    "x = jnp.arange(10)\n",
    "x < 4"
   ]
  },
  {
   "cell_type": "code",
   "execution_count": 60,
   "id": "lined-saskatchewan",
   "metadata": {},
   "outputs": [
    {
     "data": {
      "text/plain": [
       "DeviceArray([ True,  True,  True], dtype=bool)"
      ]
     },
     "execution_count": 60,
     "metadata": {},
     "output_type": "execute_result"
    }
   ],
   "source": [
    "## Check equality of vectors\n",
    "x = jnp.array([1,2,3])\n",
    "y = jnp.array([1,2,3])\n",
    "x == y"
   ]
  },
  {
   "cell_type": "code",
   "execution_count": 61,
   "id": "second-meeting",
   "metadata": {},
   "outputs": [
    {
     "data": {
      "text/plain": [
       "DeviceArray([ True,  True,  True], dtype=bool)"
      ]
     },
     "execution_count": 61,
     "metadata": {},
     "output_type": "execute_result"
    }
   ],
   "source": [
    "## Equality elements row wise\n",
    "jnp.equal(x,y)"
   ]
  },
  {
   "cell_type": "code",
   "execution_count": 62,
   "id": "useful-cleveland",
   "metadata": {},
   "outputs": [
    {
     "data": {
      "text/plain": [
       "DeviceArray(True, dtype=bool)"
      ]
     },
     "execution_count": 62,
     "metadata": {},
     "output_type": "execute_result"
    }
   ],
   "source": [
    "## All.equal\n",
    "jnp.alltrue(jnp.equal(x,y))"
   ]
  },
  {
   "cell_type": "code",
   "execution_count": 63,
   "id": "efficient-louisville",
   "metadata": {},
   "outputs": [
    {
     "data": {
      "text/plain": [
       "DeviceArray([False,  True, False, False], dtype=bool)"
      ]
     },
     "execution_count": 63,
     "metadata": {},
     "output_type": "execute_result"
    }
   ],
   "source": [
    "## Boolean test (is in set)\n",
    "a = jnp.array([1,2,3,4])\n",
    "jnp.isin(element=a, test_elements=jnp.array([2]))"
   ]
  },
  {
   "cell_type": "code",
   "execution_count": 64,
   "id": "competitive-watson",
   "metadata": {},
   "outputs": [
    {
     "data": {
      "text/plain": [
       "DeviceArray([5, 6, 7, 8, 9], dtype=int32)"
      ]
     },
     "execution_count": 64,
     "metadata": {},
     "output_type": "execute_result"
    }
   ],
   "source": [
    "## Boolean test: (where condition met)\n",
    "x = jnp.arange(10)\n",
    "x[jnp.where(x>4)]"
   ]
  },
  {
   "cell_type": "code",
   "execution_count": 65,
   "id": "demanding-volunteer",
   "metadata": {},
   "outputs": [
    {
     "data": {
      "text/plain": [
       "DeviceArray([1, 3, 4], dtype=int32)"
      ]
     },
     "execution_count": 65,
     "metadata": {},
     "output_type": "execute_result"
    }
   ],
   "source": [
    "## set difference\n",
    "a = jnp.array([1,2,3,4])\n",
    "b = jnp.array([2])\n",
    "jnp.setdiff1d(a,b)"
   ]
  },
  {
   "cell_type": "code",
   "execution_count": 66,
   "id": "ahead-shape",
   "metadata": {},
   "outputs": [
    {
     "data": {
      "text/plain": [
       "DeviceArray([2], dtype=int32)"
      ]
     },
     "execution_count": 66,
     "metadata": {},
     "output_type": "execute_result"
    }
   ],
   "source": [
    "## intersection\n",
    "a = jnp.array([1,2,3,4])\n",
    "b = jnp.array([2])\n",
    "jnp.intersect1d(a,b)"
   ]
  },
  {
   "cell_type": "code",
   "execution_count": 67,
   "id": "actual-permit",
   "metadata": {},
   "outputs": [],
   "source": [
    "## Note: union1d function \"not yet implemented\" error\n",
    "\n",
    "#jnp.union1d(a, jnp.array([10000]))"
   ]
  },
  {
   "cell_type": "code",
   "execution_count": null,
   "id": "contemporary-tucson",
   "metadata": {},
   "outputs": [],
   "source": []
  },
  {
   "cell_type": "code",
   "execution_count": null,
   "id": "assumed-discount",
   "metadata": {},
   "outputs": [],
   "source": []
  },
  {
   "cell_type": "code",
   "execution_count": null,
   "id": "imperial-spending",
   "metadata": {},
   "outputs": [],
   "source": []
  },
  {
   "cell_type": "code",
   "execution_count": null,
   "id": "outstanding-sharp",
   "metadata": {},
   "outputs": [],
   "source": []
  },
  {
   "cell_type": "code",
   "execution_count": 68,
   "id": "effective-security",
   "metadata": {},
   "outputs": [],
   "source": [
    "#################################################################\n",
    "##\n",
    "## Statistics functions\n",
    "##\n",
    "#################################################################"
   ]
  },
  {
   "cell_type": "code",
   "execution_count": 69,
   "id": "danish-yacht",
   "metadata": {},
   "outputs": [
    {
     "data": {
      "text/plain": [
       "count    1000.000000\n",
       "mean        9.998937\n",
       "std         2.019339\n",
       "min         3.788454\n",
       "25%         8.573010\n",
       "50%        10.021622\n",
       "75%        11.303478\n",
       "max        17.007282\n",
       "dtype: float64"
      ]
     },
     "execution_count": 69,
     "metadata": {},
     "output_type": "execute_result"
    }
   ],
   "source": [
    "## Random normal vector\n",
    "x = random.normal(key, shape=(1000,))\n",
    "x = 2*x + 10\n",
    "pd.Series(x).describe()"
   ]
  },
  {
   "cell_type": "code",
   "execution_count": 70,
   "id": "stainless-anchor",
   "metadata": {},
   "outputs": [
    {
     "data": {
      "text/plain": [
       "1.0    1000\n",
       "dtype: int64"
      ]
     },
     "execution_count": 70,
     "metadata": {},
     "output_type": "execute_result"
    }
   ],
   "source": [
    "## Vector of ones\n",
    "y = jnp.ones(1000)\n",
    "pd.Series(y).value_counts()"
   ]
  },
  {
   "cell_type": "code",
   "execution_count": 71,
   "id": "sonic-tribe",
   "metadata": {},
   "outputs": [
    {
     "data": {
      "text/plain": [
       "count    1000.000000\n",
       "mean       10.998937\n",
       "std         2.019339\n",
       "min         4.788454\n",
       "25%         9.573010\n",
       "50%        11.021622\n",
       "75%        12.303478\n",
       "max        18.007282\n",
       "dtype: float64"
      ]
     },
     "execution_count": 71,
     "metadata": {},
     "output_type": "execute_result"
    }
   ],
   "source": [
    "## Add to vectors\n",
    "z = x + y\n",
    "pd.Series(z).describe()"
   ]
  },
  {
   "cell_type": "code",
   "execution_count": 72,
   "id": "cathedral-impossible",
   "metadata": {},
   "outputs": [
    {
     "data": {
      "text/plain": [
       "count    1000.000000\n",
       "mean       99.989357\n",
       "std        20.193392\n",
       "min        37.884541\n",
       "25%        85.730106\n",
       "50%       100.216217\n",
       "75%       113.034779\n",
       "max       170.072815\n",
       "dtype: float64"
      ]
     },
     "execution_count": 72,
     "metadata": {},
     "output_type": "execute_result"
    }
   ],
   "source": [
    "## Multiply a scalar times a vector (broadcasting)\n",
    "z = 10*x\n",
    "pd.Series(z).describe()"
   ]
  },
  {
   "cell_type": "code",
   "execution_count": 73,
   "id": "democratic-boundary",
   "metadata": {},
   "outputs": [
    {
     "data": {
      "text/plain": [
       "DeviceArray(99.98935, dtype=float32)"
      ]
     },
     "execution_count": 73,
     "metadata": {},
     "output_type": "execute_result"
    }
   ],
   "source": [
    "## Mean\n",
    "jnp.mean(z)"
   ]
  },
  {
   "cell_type": "code",
   "execution_count": 74,
   "id": "corporate-rwanda",
   "metadata": {},
   "outputs": [
    {
     "data": {
      "text/plain": [
       "DeviceArray(20.183294, dtype=float32)"
      ]
     },
     "execution_count": 74,
     "metadata": {},
     "output_type": "execute_result"
    }
   ],
   "source": [
    "## Standard deviation\n",
    "jnp.std(z)"
   ]
  },
  {
   "cell_type": "code",
   "execution_count": 75,
   "id": "invalid-matthew",
   "metadata": {},
   "outputs": [
    {
     "data": {
      "text/plain": [
       "DeviceArray(407.36536, dtype=float32)"
      ]
     },
     "execution_count": 75,
     "metadata": {},
     "output_type": "execute_result"
    }
   ],
   "source": [
    "## Variance\n",
    "jnp.var(z)"
   ]
  },
  {
   "cell_type": "code",
   "execution_count": 76,
   "id": "thorough-october",
   "metadata": {},
   "outputs": [
    {
     "data": {
      "text/plain": [
       "DeviceArray([ 37.88454 ,  85.7301  , 100.21622 , 113.034775, 170.07281 ],            dtype=float32)"
      ]
     },
     "execution_count": 76,
     "metadata": {},
     "output_type": "execute_result"
    }
   ],
   "source": [
    "## Percentiles\n",
    "jnp.percentile(z, q=jnp.array([0,25,50,75,100]))"
   ]
  },
  {
   "cell_type": "code",
   "execution_count": 77,
   "id": "ahead-position",
   "metadata": {},
   "outputs": [
    {
     "data": {
      "text/plain": [
       "DeviceArray([[ 0.9426041 , -0.02633217],\n",
       "             [-0.02633217,  0.95755184]], dtype=float32)"
      ]
     },
     "execution_count": 77,
     "metadata": {},
     "output_type": "execute_result"
    }
   ],
   "source": [
    "## Covariance\n",
    "key, subkey = random.split(key)\n",
    "x = random.normal(key, shape=(1000,1))\n",
    "y = random.normal(subkey, shape=(1000,1))\n",
    "xy = jnp.concatenate((x,y), axis=1)\n",
    "#xy.shape\n",
    "jnp.cov(xy.T)"
   ]
  },
  {
   "cell_type": "code",
   "execution_count": 78,
   "id": "prerequisite-station",
   "metadata": {},
   "outputs": [
    {
     "data": {
      "text/plain": [
       "DeviceArray([[ 1.        , -0.02771666],\n",
       "             [-0.02771666,  1.        ]], dtype=float32)"
      ]
     },
     "execution_count": 78,
     "metadata": {},
     "output_type": "execute_result"
    }
   ],
   "source": [
    "## Correlation matrix\n",
    "jnp.corrcoef(xy.T)\n",
    "#onp.corrcoef(xy.T)"
   ]
  },
  {
   "cell_type": "code",
   "execution_count": null,
   "id": "active-founder",
   "metadata": {},
   "outputs": [],
   "source": []
  },
  {
   "cell_type": "code",
   "execution_count": null,
   "id": "distributed-packing",
   "metadata": {},
   "outputs": [],
   "source": []
  },
  {
   "cell_type": "code",
   "execution_count": null,
   "id": "straight-anniversary",
   "metadata": {},
   "outputs": [],
   "source": []
  },
  {
   "cell_type": "code",
   "execution_count": 79,
   "id": "absent-poster",
   "metadata": {},
   "outputs": [],
   "source": [
    "##################################################################\n",
    "##\n",
    "## Vector/matrix operations, linear algebra\n",
    "##\n",
    "##################################################################"
   ]
  },
  {
   "cell_type": "code",
   "execution_count": 80,
   "id": "strange-schedule",
   "metadata": {},
   "outputs": [
    {
     "data": {
      "text/plain": [
       "DeviceArray([[0, 0, 0],\n",
       "             [0, 0, 0],\n",
       "             [1, 1, 1]], dtype=int32)"
      ]
     },
     "execution_count": 80,
     "metadata": {},
     "output_type": "execute_result"
    }
   ],
   "source": [
    "A = random.randint(key, minval=0, maxval=2, shape=(3,3))\n",
    "A"
   ]
  },
  {
   "cell_type": "code",
   "execution_count": 81,
   "id": "usual-measurement",
   "metadata": {},
   "outputs": [
    {
     "data": {
      "text/plain": [
       "DeviceArray([[0],\n",
       "             [1],\n",
       "             [2]], dtype=int32)"
      ]
     },
     "execution_count": 81,
     "metadata": {},
     "output_type": "execute_result"
    }
   ],
   "source": [
    "b = jnp.array([0,1,2]).reshape(3,1)\n",
    "b"
   ]
  },
  {
   "cell_type": "code",
   "execution_count": 82,
   "id": "aggregate-inspiration",
   "metadata": {},
   "outputs": [
    {
     "data": {
      "text/plain": [
       "DeviceArray([[0, 0, 0],\n",
       "             [0, 0, 0],\n",
       "             [1, 1, 1]], dtype=int32)"
      ]
     },
     "execution_count": 82,
     "metadata": {},
     "output_type": "execute_result"
    }
   ],
   "source": [
    "## Matrix multiplication\n",
    "jnp.matmul(A, A)"
   ]
  },
  {
   "cell_type": "code",
   "execution_count": 83,
   "id": "delayed-gamma",
   "metadata": {},
   "outputs": [
    {
     "data": {
      "text/plain": [
       "DeviceArray([[0],\n",
       "             [0],\n",
       "             [3]], dtype=int32)"
      ]
     },
     "execution_count": 83,
     "metadata": {},
     "output_type": "execute_result"
    }
   ],
   "source": [
    "## Vector matrix multiplication\n",
    "jnp.matmul(A,b)"
   ]
  },
  {
   "cell_type": "code",
   "execution_count": 84,
   "id": "designed-cartridge",
   "metadata": {},
   "outputs": [
    {
     "data": {
      "text/plain": [
       "DeviceArray([[5]], dtype=int32)"
      ]
     },
     "execution_count": 84,
     "metadata": {},
     "output_type": "execute_result"
    }
   ],
   "source": [
    "## Dot product (two vectors)\n",
    "jnp.dot(b.T,b)"
   ]
  },
  {
   "cell_type": "code",
   "execution_count": 85,
   "id": "czech-chess",
   "metadata": {},
   "outputs": [
    {
     "data": {
      "text/plain": [
       "DeviceArray([[1],\n",
       "             [4]], dtype=int32)"
      ]
     },
     "execution_count": 85,
     "metadata": {},
     "output_type": "execute_result"
    }
   ],
   "source": [
    "## Dot product matrix and Vector\n",
    "B = jnp.array([[0,1,0],[0,0,2]])\n",
    "#B\n",
    "jnp.dot(B,b)"
   ]
  },
  {
   "cell_type": "code",
   "execution_count": 86,
   "id": "executive-socket",
   "metadata": {},
   "outputs": [
    {
     "data": {
      "text/plain": [
       "DeviceArray([[1, 0, 0],\n",
       "             [0, 2, 0],\n",
       "             [0, 0, 3]], dtype=int32)"
      ]
     },
     "execution_count": 86,
     "metadata": {},
     "output_type": "execute_result"
    }
   ],
   "source": [
    "# Diagonal matrix\n",
    "A = jnp.diag(v=jnp.array([1,2,3]), k=0)\n",
    "A"
   ]
  },
  {
   "cell_type": "code",
   "execution_count": 87,
   "id": "reported-server",
   "metadata": {},
   "outputs": [
    {
     "data": {
      "text/plain": [
       "DeviceArray([[1., 0., 0.],\n",
       "             [0., 1., 0.],\n",
       "             [0., 0., 1.]], dtype=float32)"
      ]
     },
     "execution_count": 87,
     "metadata": {},
     "output_type": "execute_result"
    }
   ],
   "source": [
    "## Identity matrix\n",
    "B = jnp.eye(3)\n",
    "B"
   ]
  },
  {
   "cell_type": "code",
   "execution_count": 88,
   "id": "joined-sterling",
   "metadata": {},
   "outputs": [
    {
     "data": {
      "text/plain": [
       "DeviceArray([[1., 0., 0.],\n",
       "             [0., 2., 0.],\n",
       "             [0., 0., 3.]], dtype=float32)"
      ]
     },
     "execution_count": 88,
     "metadata": {},
     "output_type": "execute_result"
    }
   ],
   "source": [
    "## Matrix multiply again\n",
    "jnp.matmul(A,B)"
   ]
  },
  {
   "cell_type": "code",
   "execution_count": 89,
   "id": "sapphire-louis",
   "metadata": {},
   "outputs": [
    {
     "data": {
      "text/plain": [
       "DeviceArray([[0],\n",
       "             [1],\n",
       "             [2]], dtype=int32)"
      ]
     },
     "execution_count": 89,
     "metadata": {},
     "output_type": "execute_result"
    }
   ],
   "source": [
    "## Cross/outer product\n",
    "b = jnp.array([0,1,2]).reshape(3,1)\n",
    "b"
   ]
  },
  {
   "cell_type": "code",
   "execution_count": 90,
   "id": "worthy-diary",
   "metadata": {},
   "outputs": [
    {
     "data": {
      "text/plain": [
       "DeviceArray([[0],\n",
       "             [1],\n",
       "             [2]], dtype=int32)"
      ]
     },
     "execution_count": 90,
     "metadata": {},
     "output_type": "execute_result"
    }
   ],
   "source": [
    "## Cross/outer product\n",
    "b = jnp.array([0,1,2]).reshape(3,1)\n",
    "b"
   ]
  },
  {
   "cell_type": "code",
   "execution_count": 91,
   "id": "dimensional-commonwealth",
   "metadata": {},
   "outputs": [
    {
     "data": {
      "text/plain": [
       "DeviceArray([[5]], dtype=int32)"
      ]
     },
     "execution_count": 91,
     "metadata": {},
     "output_type": "execute_result"
    }
   ],
   "source": [
    "## Dot/inner product between two vectors again\n",
    "b.T.dot(b)"
   ]
  },
  {
   "cell_type": "code",
   "execution_count": 92,
   "id": "premium-night",
   "metadata": {},
   "outputs": [
    {
     "data": {
      "text/plain": [
       "DeviceArray([[0, 0, 0],\n",
       "             [0, 1, 2],\n",
       "             [0, 2, 4]], dtype=int32)"
      ]
     },
     "execution_count": 92,
     "metadata": {},
     "output_type": "execute_result"
    }
   ],
   "source": [
    "## Outer product\n",
    "jnp.outer(b,b.T)"
   ]
  },
  {
   "cell_type": "code",
   "execution_count": 93,
   "id": "planned-cattle",
   "metadata": {},
   "outputs": [
    {
     "data": {
      "text/plain": [
       "DeviceArray([[ 0,  1,  4],\n",
       "             [ 0,  4, 10]], dtype=int32)"
      ]
     },
     "execution_count": 93,
     "metadata": {},
     "output_type": "execute_result"
    }
   ],
   "source": [
    "## Matrix multiplication again\n",
    "X = jnp.arange(6).reshape(2,3)\n",
    "Y = jnp.diag(jnp.array([0,1,2]))\n",
    "jnp.matmul(X,Y)"
   ]
  },
  {
   "cell_type": "code",
   "execution_count": 94,
   "id": "moral-accident",
   "metadata": {},
   "outputs": [
    {
     "data": {
      "text/plain": [
       "DeviceArray([[1., 0., 0.],\n",
       "             [0., 2., 0.],\n",
       "             [0., 0., 3.]], dtype=float32)"
      ]
     },
     "execution_count": 94,
     "metadata": {},
     "output_type": "execute_result"
    }
   ],
   "source": [
    "## Matrix addition\n",
    "Z = Y + jnp.eye(3) + jnp.zeros(9).reshape(3,3)\n",
    "Z"
   ]
  },
  {
   "cell_type": "code",
   "execution_count": null,
   "id": "immune-dominant",
   "metadata": {},
   "outputs": [],
   "source": []
  },
  {
   "cell_type": "code",
   "execution_count": null,
   "id": "electronic-favorite",
   "metadata": {},
   "outputs": [],
   "source": []
  },
  {
   "cell_type": "code",
   "execution_count": null,
   "id": "incident-nepal",
   "metadata": {},
   "outputs": [],
   "source": []
  },
  {
   "cell_type": "code",
   "execution_count": 95,
   "id": "pregnant-status",
   "metadata": {},
   "outputs": [
    {
     "data": {
      "text/plain": [
       "DeviceArray([[1.        , 0.        , 0.        ],\n",
       "             [0.        , 0.5       , 0.        ],\n",
       "             [0.        , 0.        , 0.33333334]], dtype=float32)"
      ]
     },
     "execution_count": 95,
     "metadata": {},
     "output_type": "execute_result"
    }
   ],
   "source": [
    "## Inverse of matrix\n",
    "jnp.linalg.inv(Z)"
   ]
  },
  {
   "cell_type": "code",
   "execution_count": 96,
   "id": "western-hypothesis",
   "metadata": {},
   "outputs": [
    {
     "data": {
      "text/plain": [
       "DeviceArray(6., dtype=float32)"
      ]
     },
     "execution_count": 96,
     "metadata": {},
     "output_type": "execute_result"
    }
   ],
   "source": [
    "## Determinant of matrix\n",
    "jnp.linalg.det(Z)"
   ]
  },
  {
   "cell_type": "code",
   "execution_count": 97,
   "id": "killing-wheel",
   "metadata": {},
   "outputs": [
    {
     "data": {
      "text/plain": [
       "DeviceArray(6., dtype=float32)"
      ]
     },
     "execution_count": 97,
     "metadata": {},
     "output_type": "execute_result"
    }
   ],
   "source": [
    "## Trace\n",
    "jnp.trace(Z)"
   ]
  },
  {
   "cell_type": "code",
   "execution_count": 98,
   "id": "interstate-tennessee",
   "metadata": {},
   "outputs": [
    {
     "data": {
      "text/plain": [
       "DeviceArray([1.+0.j, 2.+0.j, 3.+0.j], dtype=complex64)"
      ]
     },
     "execution_count": 98,
     "metadata": {},
     "output_type": "execute_result"
    }
   ],
   "source": [
    "## Eigenvalues\n",
    "jnp.linalg.eigvals(Z)"
   ]
  },
  {
   "cell_type": "code",
   "execution_count": 99,
   "id": "twelve-colors",
   "metadata": {},
   "outputs": [
    {
     "data": {
      "text/plain": [
       "DeviceArray(3., dtype=float32)"
      ]
     },
     "execution_count": 99,
     "metadata": {},
     "output_type": "execute_result"
    }
   ],
   "source": [
    "## Condition number\n",
    "jnp.linalg.cond(Z)"
   ]
  },
  {
   "cell_type": "code",
   "execution_count": 100,
   "id": "swiss-fleet",
   "metadata": {},
   "outputs": [
    {
     "data": {
      "text/plain": [
       "DeviceArray(3.7416575, dtype=float32)"
      ]
     },
     "execution_count": 100,
     "metadata": {},
     "output_type": "execute_result"
    }
   ],
   "source": [
    "## Norm (Frobenius)\n",
    "jnp.linalg.norm(Z, ord='fro')"
   ]
  },
  {
   "cell_type": "code",
   "execution_count": 101,
   "id": "average-nothing",
   "metadata": {},
   "outputs": [],
   "source": [
    "## Singular value decomposition of matrix\n",
    "u, s, vt = jnp.linalg.svd(Z)"
   ]
  },
  {
   "cell_type": "code",
   "execution_count": 102,
   "id": "double-skating",
   "metadata": {},
   "outputs": [
    {
     "data": {
      "text/plain": [
       "DeviceArray(3, dtype=int32)"
      ]
     },
     "execution_count": 102,
     "metadata": {},
     "output_type": "execute_result"
    }
   ],
   "source": [
    "## Matrix rank\n",
    "jnp.linalg.matrix_rank(Z)"
   ]
  },
  {
   "cell_type": "code",
   "execution_count": 103,
   "id": "impressed-colonial",
   "metadata": {},
   "outputs": [
    {
     "name": "stdout",
     "output_type": "stream",
     "text": [
      "[DeviceArray([[ 1.,  0.,  0.],\n",
      "             [-0.,  1.,  0.],\n",
      "             [-0., -0.,  1.]], dtype=float32), DeviceArray([[1., 0., 0.],\n",
      "             [0., 2., 0.],\n",
      "             [0., 0., 3.]], dtype=float32)]\n"
     ]
    }
   ],
   "source": [
    "## Qr decomposition of matrix\n",
    "q, r = jnp.linalg.qr(Z)\n",
    "print([q,r])"
   ]
  },
  {
   "cell_type": "code",
   "execution_count": 104,
   "id": "genuine-morrison",
   "metadata": {},
   "outputs": [
    {
     "data": {
      "text/plain": [
       "DeviceArray([[1.       , 0.       , 0.       ],\n",
       "             [0.       , 1.4142135, 0.       ],\n",
       "             [0.       , 0.       , 1.7320508]], dtype=float32)"
      ]
     },
     "execution_count": 104,
     "metadata": {},
     "output_type": "execute_result"
    }
   ],
   "source": [
    "## Cholesky decomposition of matrix\n",
    "jnp.linalg.cholesky(Z)"
   ]
  },
  {
   "cell_type": "code",
   "execution_count": null,
   "id": "alone-arthritis",
   "metadata": {},
   "outputs": [],
   "source": []
  },
  {
   "cell_type": "code",
   "execution_count": null,
   "id": "sixth-consistency",
   "metadata": {},
   "outputs": [],
   "source": []
  },
  {
   "cell_type": "code",
   "execution_count": null,
   "id": "fiscal-printing",
   "metadata": {},
   "outputs": [],
   "source": []
  },
  {
   "cell_type": "code",
   "execution_count": 105,
   "id": "systematic-tomato",
   "metadata": {},
   "outputs": [
    {
     "name": "stdout",
     "output_type": "stream",
     "text": [
      "[[ 0]\n",
      " [ 0]\n",
      " [ 1]\n",
      " [-1]]\n",
      "[[-2.0122171e-08]\n",
      " [ 9.5216226e-09]\n",
      " [ 1.0000000e+00]\n",
      " [-1.0000001e+00]]\n"
     ]
    }
   ],
   "source": [
    "##\n",
    "## Least squares example\n",
    "##\n",
    "\n",
    "## Dimensions of the problem\n",
    "nrow = 10000\n",
    "ncol = 3\n",
    "beta = jnp.array([0,0,1,-1]).reshape(ncol+1,1)\n",
    "\n",
    "## Create dataset/design-matrix\n",
    "X = random.normal(key, shape=(nrow*ncol,)).reshape(nrow,ncol)\n",
    "ones = jnp.repeat(1.0, nrow).reshape(nrow,1)\n",
    "X = jnp.hstack((X, ones))\n",
    "## Construct linear predictor (y-true)\n",
    "y = jnp.matmul(X, beta)\n",
    "\n",
    "## Using linear algebra to compute estimated parameters\n",
    "XtX = jnp.matmul(X.T, X)\n",
    "Xty = jnp.matmul(X.T, y)\n",
    "\n",
    "## Learned vector of betas\n",
    "beta_hat = jnp.matmul(jnp.linalg.inv(XtX), Xty)\n",
    "print(beta)\n",
    "print(beta_hat)\n",
    "\n",
    "#jnp.isclose(beta, beta_hat)"
   ]
  },
  {
   "cell_type": "code",
   "execution_count": 106,
   "id": "precise-plymouth",
   "metadata": {},
   "outputs": [
    {
     "data": {
      "text/plain": [
       "(DeviceArray([[ 1.5450608e-07],\n",
       "              [ 4.4876984e-08],\n",
       "              [ 1.0000001e+00],\n",
       "              [-9.9999958e-01]], dtype=float32),\n",
       " DeviceArray([2.1880242e-09], dtype=float32),\n",
       " DeviceArray(4, dtype=int32),\n",
       " DeviceArray([100.82345,  99.9497 ,  99.60676,  98.52325], dtype=float32))"
      ]
     },
     "execution_count": 106,
     "metadata": {},
     "output_type": "execute_result"
    }
   ],
   "source": [
    "## Least squares solution\n",
    "jnp.linalg.lstsq(a=X, b=y)"
   ]
  },
  {
   "cell_type": "code",
   "execution_count": null,
   "id": "wireless-receiver",
   "metadata": {},
   "outputs": [],
   "source": []
  },
  {
   "cell_type": "code",
   "execution_count": null,
   "id": "southeast-sender",
   "metadata": {},
   "outputs": [],
   "source": []
  },
  {
   "cell_type": "code",
   "execution_count": 107,
   "id": "competent-citizenship",
   "metadata": {},
   "outputs": [],
   "source": [
    "########################################################################\n",
    "##\n",
    "## Note: many of the same decompositions exist in jax.scipy.linalg\n",
    "##\n",
    "########################################################################"
   ]
  },
  {
   "cell_type": "code",
   "execution_count": 108,
   "id": "plastic-present",
   "metadata": {},
   "outputs": [
    {
     "data": {
      "text/plain": [
       "(DeviceArray([[0., 0., 1.],\n",
       "              [0., 1., 0.],\n",
       "              [1., 0., 0.]], dtype=float32),\n",
       " DeviceArray([3., 2., 1.], dtype=float32),\n",
       " DeviceArray([[0., 0., 1.],\n",
       "              [0., 1., 0.],\n",
       "              [1., 0., 0.]], dtype=float32))"
      ]
     },
     "execution_count": 108,
     "metadata": {},
     "output_type": "execute_result"
    }
   ],
   "source": [
    "## E.g. SVD using SciPy\n",
    "jax.scipy.linalg.svd(Z)"
   ]
  },
  {
   "cell_type": "code",
   "execution_count": null,
   "id": "above-squad",
   "metadata": {},
   "outputs": [],
   "source": []
  },
  {
   "cell_type": "code",
   "execution_count": null,
   "id": "signed-hobby",
   "metadata": {},
   "outputs": [],
   "source": []
  },
  {
   "cell_type": "code",
   "execution_count": 109,
   "id": "static-florence",
   "metadata": {},
   "outputs": [],
   "source": [
    "#############################\n",
    "## Scipy special functions\n",
    "#############################"
   ]
  },
  {
   "cell_type": "code",
   "execution_count": 110,
   "id": "certain-bearing",
   "metadata": {},
   "outputs": [
    {
     "data": {
      "text/plain": [
       "DeviceArray(1.7917598, dtype=float32)"
      ]
     },
     "execution_count": 110,
     "metadata": {},
     "output_type": "execute_result"
    }
   ],
   "source": [
    "## gamma function\n",
    "jax.scipy.special.gammaln(4)"
   ]
  },
  {
   "cell_type": "code",
   "execution_count": 111,
   "id": "capital-teacher",
   "metadata": {},
   "outputs": [
    {
     "data": {
      "text/plain": [
       "DeviceArray(1.7917595, dtype=float32)"
      ]
     },
     "execution_count": 111,
     "metadata": {},
     "output_type": "execute_result"
    }
   ],
   "source": [
    "## Confirm the log gamma function...\n",
    "jnp.log(jnp.prod(jnp.arange(3)+1))"
   ]
  },
  {
   "cell_type": "code",
   "execution_count": 112,
   "id": "healthy-candidate",
   "metadata": {},
   "outputs": [],
   "source": [
    "##\n",
    "## Note: many other specifial functions exist\n",
    "##\n",
    "## digamma\n",
    "## betainc\n",
    "## logit \n",
    "## expit\n",
    "## logsumexp\n",
    "## efr\n",
    "## erfinv\n",
    "## etc. etc. etc.\n",
    "##"
   ]
  },
  {
   "cell_type": "code",
   "execution_count": null,
   "id": "animated-finance",
   "metadata": {},
   "outputs": [],
   "source": []
  },
  {
   "cell_type": "code",
   "execution_count": null,
   "id": "separate-marina",
   "metadata": {},
   "outputs": [],
   "source": []
  },
  {
   "cell_type": "code",
   "execution_count": null,
   "id": "municipal-violation",
   "metadata": {},
   "outputs": [],
   "source": []
  },
  {
   "cell_type": "code",
   "execution_count": null,
   "id": "smooth-competition",
   "metadata": {},
   "outputs": [],
   "source": []
  },
  {
   "cell_type": "code",
   "execution_count": 113,
   "id": "academic-folder",
   "metadata": {},
   "outputs": [
    {
     "name": "stdout",
     "output_type": "stream",
     "text": [
      "-----\n",
      "jax         0.2.9\n",
      "matplotlib  3.3.4\n",
      "numpy       1.20.1\n",
      "pandas      1.2.2\n",
      "seaborn     0.11.1\n",
      "sinfo       0.3.1\n",
      "-----\n",
      "IPython             7.20.0\n",
      "jupyter_client      6.1.11\n",
      "jupyter_core        4.7.1\n",
      "jupyterlab          3.0.9\n",
      "notebook            6.2.0\n",
      "-----\n",
      "Python 3.7.10 | packaged by conda-forge | (default, Feb 19 2021, 16:07:37) [GCC 9.3.0]\n",
      "Linux-3.10.0-1127.el7.x86_64-x86_64-with-centos-7.8.2003-Core\n",
      "79 logical CPU cores, x86_64\n",
      "-----\n",
      "Session information updated at 2021-02-26 15:13\n"
     ]
    }
   ],
   "source": [
    "from sinfo import sinfo\n",
    "sinfo()"
   ]
  },
  {
   "cell_type": "code",
   "execution_count": null,
   "id": "classified-james",
   "metadata": {},
   "outputs": [],
   "source": []
  }
 ],
 "metadata": {
  "kernelspec": {
   "display_name": "Python 3",
   "language": "python",
   "name": "python3"
  },
  "language_info": {
   "codemirror_mode": {
    "name": "ipython",
    "version": 3
   },
   "file_extension": ".py",
   "mimetype": "text/x-python",
   "name": "python",
   "nbconvert_exporter": "python",
   "pygments_lexer": "ipython3",
   "version": "3.7.10"
  }
 },
 "nbformat": 4,
 "nbformat_minor": 5
}
